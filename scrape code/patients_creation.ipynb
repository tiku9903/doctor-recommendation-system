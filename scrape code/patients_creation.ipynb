{
 "cells": [
  {
   "cell_type": "code",
   "execution_count": 14,
   "metadata": {},
   "outputs": [],
   "source": [
    "import numpy as np\n",
    "import pandas as pd\n",
    "import random"
   ]
  },
  {
   "cell_type": "code",
   "execution_count": 15,
   "metadata": {},
   "outputs": [
    {
     "name": "stdout",
     "output_type": "stream",
     "text": [
      "(165594, 2)\n"
     ]
    }
   ],
   "source": [
    "symptoms = pd.read_csv('../Datasets/symptoms_final.csv')\n",
    "print(symptoms.shape)"
   ]
  },
  {
   "cell_type": "code",
   "execution_count": 16,
   "metadata": {},
   "outputs": [
    {
     "data": {
      "text/html": [
       "<div>\n",
       "<style scoped>\n",
       "    .dataframe tbody tr th:only-of-type {\n",
       "        vertical-align: middle;\n",
       "    }\n",
       "\n",
       "    .dataframe tbody tr th {\n",
       "        vertical-align: top;\n",
       "    }\n",
       "\n",
       "    .dataframe thead th {\n",
       "        text-align: right;\n",
       "    }\n",
       "</style>\n",
       "<table border=\"1\" class=\"dataframe\">\n",
       "  <thead>\n",
       "    <tr style=\"text-align: right;\">\n",
       "      <th></th>\n",
       "      <th>Disease</th>\n",
       "      <th>Symptoms</th>\n",
       "    </tr>\n",
       "  </thead>\n",
       "  <tbody>\n",
       "    <tr>\n",
       "      <th>0</th>\n",
       "      <td>Fungal infection</td>\n",
       "      <td>['itching', ' skin_rash']</td>\n",
       "    </tr>\n",
       "    <tr>\n",
       "      <th>1</th>\n",
       "      <td>Fungal infection</td>\n",
       "      <td>['itching', ' nodal_skin_eruptions']</td>\n",
       "    </tr>\n",
       "    <tr>\n",
       "      <th>2</th>\n",
       "      <td>Fungal infection</td>\n",
       "      <td>['itching', ' dischromic _patches']</td>\n",
       "    </tr>\n",
       "    <tr>\n",
       "      <th>3</th>\n",
       "      <td>Fungal infection</td>\n",
       "      <td>[' skin_rash', ' nodal_skin_eruptions']</td>\n",
       "    </tr>\n",
       "    <tr>\n",
       "      <th>4</th>\n",
       "      <td>Fungal infection</td>\n",
       "      <td>[' skin_rash', ' dischromic _patches']</td>\n",
       "    </tr>\n",
       "  </tbody>\n",
       "</table>\n",
       "</div>"
      ],
      "text/plain": [
       "            Disease                                 Symptoms\n",
       "0  Fungal infection                ['itching', ' skin_rash']\n",
       "1  Fungal infection     ['itching', ' nodal_skin_eruptions']\n",
       "2  Fungal infection      ['itching', ' dischromic _patches']\n",
       "3  Fungal infection  [' skin_rash', ' nodal_skin_eruptions']\n",
       "4  Fungal infection   [' skin_rash', ' dischromic _patches']"
      ]
     },
     "execution_count": 16,
     "metadata": {},
     "output_type": "execute_result"
    }
   ],
   "source": [
    "symptoms.head(5)"
   ]
  },
  {
   "cell_type": "code",
   "execution_count": 17,
   "metadata": {},
   "outputs": [
    {
     "data": {
      "text/html": [
       "<div>\n",
       "<style scoped>\n",
       "    .dataframe tbody tr th:only-of-type {\n",
       "        vertical-align: middle;\n",
       "    }\n",
       "\n",
       "    .dataframe tbody tr th {\n",
       "        vertical-align: top;\n",
       "    }\n",
       "\n",
       "    .dataframe thead th {\n",
       "        text-align: right;\n",
       "    }\n",
       "</style>\n",
       "<table border=\"1\" class=\"dataframe\">\n",
       "  <thead>\n",
       "    <tr style=\"text-align: right;\">\n",
       "      <th></th>\n",
       "      <th>UserId</th>\n",
       "      <th>Age</th>\n",
       "      <th>Gender</th>\n",
       "      <th>MedicalHistory</th>\n",
       "    </tr>\n",
       "  </thead>\n",
       "  <tbody>\n",
       "    <tr>\n",
       "      <th>0</th>\n",
       "      <td>1</td>\n",
       "      <td>42</td>\n",
       "      <td>Male</td>\n",
       "      <td>[{'Disease': 'Tuberculosis', 'Symptoms': '[' h...</td>\n",
       "    </tr>\n",
       "    <tr>\n",
       "      <th>1</th>\n",
       "      <td>2</td>\n",
       "      <td>35</td>\n",
       "      <td>Female</td>\n",
       "      <td>[{'Disease': 'Common Cold', 'Symptoms': '[' hi...</td>\n",
       "    </tr>\n",
       "    <tr>\n",
       "      <th>2</th>\n",
       "      <td>3</td>\n",
       "      <td>45</td>\n",
       "      <td>Female</td>\n",
       "      <td>[{'Disease': 'Common Cold', 'Symptoms': '[' hi...</td>\n",
       "    </tr>\n",
       "    <tr>\n",
       "      <th>3</th>\n",
       "      <td>4</td>\n",
       "      <td>39</td>\n",
       "      <td>Female</td>\n",
       "      <td>[{'Disease': 'Common Cold', 'Symptoms': '[' lo...</td>\n",
       "    </tr>\n",
       "    <tr>\n",
       "      <th>4</th>\n",
       "      <td>5</td>\n",
       "      <td>37</td>\n",
       "      <td>Male</td>\n",
       "      <td>[{'Disease': 'Common Cold', 'Symptoms': '[' lo...</td>\n",
       "    </tr>\n",
       "  </tbody>\n",
       "</table>\n",
       "</div>"
      ],
      "text/plain": [
       "   UserId  Age  Gender                                     MedicalHistory\n",
       "0       1   42    Male  [{'Disease': 'Tuberculosis', 'Symptoms': '[' h...\n",
       "1       2   35  Female  [{'Disease': 'Common Cold', 'Symptoms': '[' hi...\n",
       "2       3   45  Female  [{'Disease': 'Common Cold', 'Symptoms': '[' hi...\n",
       "3       4   39  Female  [{'Disease': 'Common Cold', 'Symptoms': '[' lo...\n",
       "4       5   37    Male  [{'Disease': 'Common Cold', 'Symptoms': '[' lo..."
      ]
     },
     "execution_count": 17,
     "metadata": {},
     "output_type": "execute_result"
    }
   ],
   "source": [
    "# Initialize an empty list to store medical histories of users\n",
    "medical_histories = []\n",
    "\n",
    "# Number of users\n",
    "num_users = 100000  # You can change this number as per your requirement\n",
    "\n",
    "# Iterate over the number of users\n",
    "for user_id in range(num_users):\n",
    "    # Randomly choose a number of rows to select for the current user\n",
    "    num_rows_selected = random.randint(1, 3)\n",
    "    \n",
    "    # Randomly select x rows from the DataFrame\n",
    "    selected_rows = symptoms.sample(n=num_rows_selected)\n",
    "    \n",
    "    # Make a list of selected rows as dictionaries\n",
    "    selected_rows_list = selected_rows.to_dict(orient='records')\n",
    "    \n",
    "    # Add the list of selected rows to the medical history of the current user\n",
    "    medical_histories.append(selected_rows_list)\n",
    "\n",
    "# Define parameters for age distribution\n",
    "mean_age = 40\n",
    "std_dev_age = 10\n",
    "\n",
    "# Generate ages following a normal distribution\n",
    "ages = np.random.normal(mean_age, std_dev_age, num_users)\n",
    "# Ensure ages are non-negative\n",
    "ages = np.maximum(0, ages)\n",
    "\n",
    "# Round ages to integers\n",
    "ages = np.round(ages).astype(int)\n",
    "ages = np.clip(ages, 1, 100)\n",
    "\n",
    "# Define gender distribution (e.g., 0 for male, 1 for female)\n",
    "gender_distribution = [0.5, 0.5]  # Assuming equal probability for each gender\n",
    "genders = np.random.choice([\"Male\", \"Female\"], size=num_users, p=gender_distribution)\n",
    "\n",
    "# Create a DataFrame for medical histories\n",
    "patients = pd.DataFrame({'UserId': range(1, num_users + 1), 'Age' : ages, 'Gender' : genders ,'MedicalHistory': medical_histories})\n",
    "\n",
    "# Display the final DataFrame\n",
    "patients.head(5)"
   ]
  },
  {
   "cell_type": "code",
   "execution_count": 18,
   "metadata": {},
   "outputs": [],
   "source": [
    "patients.to_csv('patients_data_final.csv', index=False)"
   ]
  }
 ],
 "metadata": {
  "kernelspec": {
   "display_name": "Python 3",
   "language": "python",
   "name": "python3"
  },
  "language_info": {
   "codemirror_mode": {
    "name": "ipython",
    "version": 3
   },
   "file_extension": ".py",
   "mimetype": "text/x-python",
   "name": "python",
   "nbconvert_exporter": "python",
   "pygments_lexer": "ipython3",
   "version": "3.10.2"
  }
 },
 "nbformat": 4,
 "nbformat_minor": 2
}
